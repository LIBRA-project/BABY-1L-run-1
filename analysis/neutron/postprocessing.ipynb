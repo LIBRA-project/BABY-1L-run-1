{
 "cells": [
  {
   "cell_type": "markdown",
   "metadata": {},
   "source": [
    "# LIBRA and the Liquid Immersion Blanket\n",
    "## 1L BABY\n",
    "- Wall permeation\n",
    "- FLiBe handing (ClLiF)\n",
    "- Wall materials\n",
    "- Tritium probe "
   ]
  },
  {
   "cell_type": "code",
   "execution_count": 1,
   "metadata": {},
   "outputs": [],
   "source": [
    "import math\n",
    "import openmc\n",
    "import numpy as np\n",
    "import matplotlib.pyplot as plt\n",
    "from matplotlib.colors import LogNorm, ListedColormap\n",
    "import helpers\n",
    "from openmc_model import baby_model"
   ]
  },
  {
   "cell_type": "markdown",
   "metadata": {},
   "source": [
    "### Geometry"
   ]
  },
  {
   "cell_type": "code",
   "execution_count": 2,
   "metadata": {},
   "outputs": [],
   "source": [
    "model = baby_model()\n",
    "geometry = model.geometry"
   ]
  },
  {
   "cell_type": "code",
   "execution_count": 3,
   "metadata": {},
   "outputs": [],
   "source": [
    "model.export_to_xml()"
   ]
  },
  {
   "cell_type": "code",
   "execution_count": null,
   "metadata": {},
   "outputs": [],
   "source": [
    "# Visualization\n",
    "\n",
    "from libra_toolbox.neutronics.vault import Air\n",
    "from openmc_model import air\n",
    "\n",
    "x_c = 587\n",
    "y_c = 60\n",
    "z_c = 100\n",
    "ax = geometry.plot(\n",
    "    width=(2500, 1500),\n",
    "    origin=(x_c, y_c, z_c + 10),\n",
    "    pixels=(1000, 1000),\n",
    "    basis=\"xy\",\n",
    "    color_by=\"material\",\n",
    "    colors={Air: \"white\", air: \"white\"},\n",
    ")\n",
    "ax.tick_params(axis=\"both\", labelsize=20)\n",
    "ax.set_xlabel(ax.get_xlabel(), fontsize=20)\n",
    "ax.set_ylabel(ax.get_ylabel(), fontsize=20)\n",
    "plt.show()"
   ]
  },
  {
   "cell_type": "code",
   "execution_count": null,
   "metadata": {},
   "outputs": [],
   "source": [
    "ax = geometry.plot(\n",
    "    width=(85, 85),\n",
    "    origin=(x_c, y_c, z_c + 10),\n",
    "    pixels=(1000, 1000),\n",
    "    basis=\"xz\",\n",
    "    color_by=\"material\",\n",
    "    colors={Air: \"white\", air: \"white\"},\n",
    ")\n",
    "ax.tick_params(axis=\"both\", labelsize=20)\n",
    "ax.set_xlabel(ax.get_xlabel(), fontsize=20)\n",
    "ax.set_ylabel(ax.get_ylabel(), fontsize=20)\n",
    "plt.show()"
   ]
  },
  {
   "cell_type": "markdown",
   "metadata": {},
   "source": [
    "Sopra c'è activation foil zr\n",
    "sotto c'è activation foil nb e poi c'è il diamond"
   ]
  },
  {
   "cell_type": "markdown",
   "metadata": {},
   "source": [
    "### Result"
   ]
  },
  {
   "cell_type": "code",
   "execution_count": 4,
   "metadata": {},
   "outputs": [
    {
     "name": "stdout",
     "output_type": "stream",
     "text": [
      "TBR: 1.990191e-03\n",
      "\n",
      "TBR std. dev.: 1.013518e-05\n",
      "\n",
      "The tritium breeding by lithium 6 is: 6.380773e-04\n",
      "The tritium breeding by lithium 7 is: 1.352114e-03\n"
     ]
    }
   ],
   "source": [
    "sp = openmc.StatePoint(\"statepoint.100.h5\")\n",
    "tbr_withvault = sp.get_tally(name=\"TBR\").get_pandas_dataframe()\n",
    "print(f\"TBR: {tbr_withvault['mean'].sum() :.6e}\\n\")\n",
    "print(f\"TBR std. dev.: {tbr_withvault['std. dev.'].sum() :.6e}\\n\")\n",
    "lithium_6_contribution = tbr_withvault[tbr_withvault['nuclide'] == 'Li6']['mean'].sum()\n",
    "lithium_7_contribution = tbr_withvault[tbr_withvault['nuclide'] == 'Li7']['mean'].sum()\n",
    "print(f\"The tritium breeding by lithium 6 is: {lithium_6_contribution :.6e}\")\n",
    "print(f\"The tritium breeding by lithium 7 is: {lithium_7_contribution :.6e}\")"
   ]
  },
  {
   "cell_type": "code",
   "execution_count": 5,
   "metadata": {},
   "outputs": [],
   "source": [
    "rr_zr90 = sp.get_tally(name=\"rr_zr90\").get_pandas_dataframe()\n",
    "rr_nb93 = sp.get_tally(name=\"rr_nb93\").get_pandas_dataframe()\n",
    "act_foils_zr_flux = sp.get_tally(name=\"act_foils_zr_flux\").get_pandas_dataframe()\n",
    "act_foils_zr_current = sp.get_tally(name=\"act_foils_zr_current\").get_pandas_dataframe()\n",
    "act_foils_nb_flux = sp.get_tally(name=\"act_foils_nb_flux\").get_pandas_dataframe()\n",
    "act_foils_nb_current = sp.get_tally(name=\"act_foils_nb_current\").get_pandas_dataframe()\n",
    "diamond_flux = sp.get_tally(name=\"diamond_flux\").get_pandas_dataframe()\n",
    "diamond_current = sp.get_tally(name=\"diamond_current\").get_pandas_dataframe()\n",
    "diamond_elastic_scatter = sp.get_tally(name=\"elastic_scattering\").get_pandas_dataframe()\n",
    "neutron_tally_result = sp.get_tally(name=\"neutron_dose_on_mesh\")\n",
    "photon_tally_result = sp.get_tally(name=\"photon_dose_on_mesh\")"
   ]
  },
  {
   "cell_type": "code",
   "execution_count": null,
   "metadata": {},
   "outputs": [],
   "source": [
    "# gets the mesh used for the tally\n",
    "mesh = neutron_tally_result.find_filter(openmc.MeshFilter).mesh\n",
    "\n",
    "# writes the TBR mesh tally as a vtk file\n",
    "mesh.write_data_to_vtk(\n",
    "    filename=\"neutron_dose.vtk\",\n",
    "    datasets={\"mean\": neutron_tally_result.mean, \n",
    "              \"std.dev\": neutron_tally_result.std_dev }  # the first \"mean\" is the name of the data set label inside the vtk file\n",
    ")\n",
    "\n",
    "mesh.write_data_to_vtk(\n",
    "    filename=\"photon_dose.vtk\",\n",
    "    datasets={\"mean\": photon_tally_result.mean, \n",
    "              \"std.dev\": photon_tally_result.std_dev }\n",
    ")"
   ]
  },
  {
   "cell_type": "code",
   "execution_count": null,
   "metadata": {},
   "outputs": [],
   "source": [
    "from openmc_regular_mesh_plotter import plot_mesh_tally\n",
    "\n",
    "DT_neutron_generator = 2.60e+08  # n/s\n",
    "pico_to_mrem = 1e-7\n",
    "seconds_to_years = 60 * 60\n",
    "\n",
    "mesh = openmc.RegularMesh()\n",
    "mesh.dimension = (130, 90, 60)\n",
    "mesh.lower_left = (-100.00, -200.00, -100.00)\n",
    "mesh.upper_right = (1200.00, 700.00, 500.00)\n",
    "\n",
    "scaling_factor = (DT_neutron_generator * pico_to_mrem * seconds_to_years) / mesh.volumes[0][0][0]\n",
    "\n",
    "cmap = plt.get_cmap('viridis', 7)\n",
    "cmap_stddev = plt.get_cmap('Reds', 7)\n",
    "cmap_p = plt.get_cmap('plasma', 7)\n",
    "plot = plot_mesh_tally(\n",
    "        tally=neutron_tally_result,\n",
    "        slice_index=19,\n",
    "        basis=\"xy\",\n",
    "        geometry=geometry,\n",
    "        outline=True,\n",
    "        # score='flux', # only one tally so can make use of default here\n",
    "        value=\"mean\",\n",
    "        colorbar_kwargs={\n",
    "            'label': \"Dose [mrem/h]\",\n",
    "        },\n",
    "        norm=LogNorm(),\n",
    "        volume_normalization=False,  # this is done in the scaling_factor\n",
    "        scaling_factor=scaling_factor,\n",
    "        cmap=cmap,\n",
    "    )"
   ]
  },
  {
   "cell_type": "code",
   "execution_count": null,
   "metadata": {},
   "outputs": [],
   "source": [
    "plot = plot_mesh_tally(\n",
    "        tally=neutron_tally_result,\n",
    "        slice_index=19,\n",
    "        basis=\"xy\",\n",
    "        geometry=geometry,\n",
    "        outline=True,\n",
    "        # score='flux', # only one tally so can make use of default here\n",
    "        value=\"std_dev\",\n",
    "        colorbar_kwargs={\n",
    "            'label': \"Std. Dev [-]\",\n",
    "        },\n",
    "        norm=LogNorm(),\n",
    "        volume_normalization=False,  # this is done in the scaling_factor\n",
    "        scaling_factor=scaling_factor,\n",
    "        cmap=cmap_stddev,\n",
    "    )"
   ]
  },
  {
   "cell_type": "code",
   "execution_count": null,
   "metadata": {},
   "outputs": [],
   "source": [
    "plot = plot_mesh_tally(\n",
    "        tally=photon_tally_result,\n",
    "        slice_index=19,\n",
    "        basis=\"xy\",\n",
    "        geometry=geometry,\n",
    "        outline=True,\n",
    "        # score='flux', # only one tally so can make use of default here\n",
    "        value=\"mean\",\n",
    "        colorbar_kwargs={\n",
    "            'label': \"Dose [mrem/h]\",\n",
    "        },\n",
    "        norm=LogNorm(),\n",
    "        volume_normalization=False,  # this is done in the scaling_factor\n",
    "        scaling_factor=scaling_factor,\n",
    "        cmap=cmap_p,\n",
    "    )"
   ]
  },
  {
   "cell_type": "code",
   "execution_count": null,
   "metadata": {},
   "outputs": [],
   "source": [
    "plot = plot_mesh_tally(\n",
    "        tally=neutron_tally_result,\n",
    "        slice_index=68,\n",
    "        basis=\"yz\",\n",
    "        geometry=geometry,\n",
    "        outline=True,\n",
    "        # score='flux', # only one tally so can make use of default here\n",
    "        value=\"mean\",\n",
    "        colorbar_kwargs={\n",
    "            'label': \"Dose [mrem/h]\",\n",
    "        },\n",
    "        norm=LogNorm(),\n",
    "        volume_normalization=False,  # this is done in the scaling_factor\n",
    "        scaling_factor=scaling_factor,\n",
    "    )"
   ]
  },
  {
   "cell_type": "code",
   "execution_count": null,
   "metadata": {},
   "outputs": [],
   "source": [
    "plot = plot_mesh_tally(\n",
    "        tally=neutron_tally_result,\n",
    "        slice_index=25,\n",
    "        basis=\"xz\",\n",
    "        geometry=geometry,\n",
    "        outline=True,\n",
    "        # score='flux', # only one tally so can make use of default here\n",
    "        value=\"mean\",\n",
    "        colorbar_kwargs={\n",
    "            'label': \"Dose [µSv per year]\",\n",
    "        },\n",
    "        norm=LogNorm(),\n",
    "        volume_normalization=False,  # this is done in the scaling_factor\n",
    "        scaling_factor=scaling_factor,\n",
    "    )"
   ]
  },
  {
   "cell_type": "markdown",
   "metadata": {},
   "source": [
    "## Zirconium Activation Foils"
   ]
  },
  {
   "cell_type": "code",
   "execution_count": 10,
   "metadata": {},
   "outputs": [],
   "source": [
    "act_foils_radius = 1.8\n",
    "act_foils_surface = helpers.calculate_circle_surface(act_foils_radius)\n",
    "zr_current = helpers.rescale_to_lethargy(act_foils_zr_current, act_foils_surface)\n",
    "ylabel_n = r'Neutron flux $(\\frac{n}{cm^2 \\cdot src \\cdot lethargy})$'"
   ]
  },
  {
   "cell_type": "code",
   "execution_count": 11,
   "metadata": {},
   "outputs": [
    {
     "data": {
      "image/png": "[encoded data removed]",
      "text/plain": [
       "<Figure size 1000x500 with 2 Axes>"
      ]
     },
     "metadata": {},
     "output_type": "display_data"
    }
   ],
   "source": [
    "helpers.plot_results(zr_current, ylabel=ylabel_n)"
   ]
  },
  {
   "cell_type": "markdown",
   "metadata": {},
   "source": [
    "## Diamond Detector"
   ]
  }
 ],
 "metadata": {
  "kernelspec": {
   "display_name": "openmc0.15",
   "language": "python",
   "name": "python3"
  },
  "language_info": {
   "codemirror_mode": {
    "name": "ipython",
    "version": 3
   },
   "file_extension": ".py",
   "mimetype": "text/x-python",
   "name": "python",
   "nbconvert_exporter": "python",
   "pygments_lexer": "ipython3",
   "version": "3.12.8"
  }
 },
 "nbformat": 4,
 "nbformat_minor": 2
}
